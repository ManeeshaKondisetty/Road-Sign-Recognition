{
 "cells": [
  {
   "cell_type": "code",
   "execution_count": 1,
   "id": "53228bb2",
   "metadata": {},
   "outputs": [],
   "source": [
    "#Importing the libraries\n",
    "import numpy as np\n",
    "import pandas as pd\n",
    "import matplotlib.pyplot as plt\n",
    "import tensorflow as tf\n",
    "from PIL import Image\n",
    "import os\n",
    "from sklearn.model_selection import train_test_split\n",
    "from tensorflow.keras.utils import to_categorical\n",
    "from keras.models import Sequential\n",
    "from tensorflow.keras.layers import Conv2D, MaxPooling2D\n",
    "from keras.layers import Dense, Dropout, Flatten\n",
    "from zipfile import ZipFile"
   ]
  },
  {
   "cell_type": "code",
   "execution_count": 2,
   "id": "305f75c1",
   "metadata": {},
   "outputs": [
    {
     "data": {
      "text/plain": [
       "'/Users/maneeshaprasad/Downloads/archive/Meta'"
      ]
     },
     "execution_count": 2,
     "metadata": {},
     "output_type": "execute_result"
    }
   ],
   "source": [
    "#setting the current working directory \n",
    "os.getcwd()\n",
    "#changes the current working directory of the calling process to the directory specified in path.\n",
    "os.chdir('/Users/maneeshaprasad/Downloads/archive/Meta')\n",
    "#returns current working directory of a process\n",
    "os.getcwd()"
   ]
  },
  {
   "cell_type": "code",
   "execution_count": 3,
   "id": "ed31edd1",
   "metadata": {},
   "outputs": [],
   "source": [
    "#Loading the data\n",
    "Images_data = [] #Loading Images to Images_data List\n",
    "Images_labels = [] #Loading labels to Images_labels List\n",
    "classes = 43 #Classes\n",
    "\n",
    "for i in range(classes): #Looping all the classes \n",
    "    path = os.path.join('/Users/maneeshaprasad/Downloads/archive/Train',str(i))\n",
    "    images = os.listdir(path)\n",
    "    for a in images:#Looping through all the images\n",
    "        image = Image.open(path + '/' + a)  \n",
    "        image = image.resize((32,32)) #Resizing the images\n",
    "        image = np.array(image)\n",
    "        Images_data.append(image) #Appending all the images to Images_data list\n",
    "        Images_labels.append(i) #Appending all the labels to Image_labels list\n",
    "\n",
    "Images_data = np.array(Images_data) #list to arrays\n",
    "Images_labels = np.array(Images_labels) #list to arrays\n"
   ]
  },
  {
   "cell_type": "code",
   "execution_count": 4,
   "id": "f78eded9",
   "metadata": {},
   "outputs": [
    {
     "name": "stdout",
     "output_type": "stream",
     "text": [
      "Size of Images :  (39209, 32, 32, 3)\n",
      "SIze of Labels :  (39209,)\n"
     ]
    }
   ],
   "source": [
    "#printing the size of data and labels\n",
    "print('Size of Images : ' ,Images_data.shape)\n",
    "print('SIze of Labels : ' ,Images_labels.shape)"
   ]
  },
  {
   "cell_type": "code",
   "execution_count": 5,
   "id": "c077c730",
   "metadata": {},
   "outputs": [
    {
     "data": {
      "image/png": "[encoded data removed]",
      "text/plain": [
       "<Figure size 432x288 with 1 Axes>"
      ]
     },
     "metadata": {
      "needs_background": "light"
     },
     "output_type": "display_data"
    }
   ],
   "source": [
    "#display the first image in the training data\n",
    "plt.imshow(Images_data[105,:,:],cmap='gray')\n",
    "plt.show()"
   ]
  },
  {
   "cell_type": "code",
   "execution_count": 6,
   "id": "b491aacb",
   "metadata": {},
   "outputs": [],
   "source": [
    "#Splitting the data into train and test\n",
    "train_images,test_images,train_labels,test_labels = train_test_split(Images_data,Images_labels,test_size=0.2,random_state = 42)"
   ]
  },
  {
   "cell_type": "code",
   "execution_count": 7,
   "id": "7385b696",
   "metadata": {},
   "outputs": [
    {
     "name": "stdout",
     "output_type": "stream",
     "text": [
      "train_images size :  (31367, 32, 32, 3)\n",
      "train_labels size :  (31367,)\n",
      "test_images size :   (7842, 32, 32, 3)\n",
      "test_labels size :   (7842,)\n"
     ]
    }
   ],
   "source": [
    "#printing the size of train and test data\n",
    "print('train_images size : ' ,train_images.shape)\n",
    "print('train_labels size : ' ,train_labels.shape)\n",
    "print('test_images size :  ' ,test_images.shape)\n",
    "print('test_labels size :  ' ,test_labels.shape)"
   ]
  },
  {
   "cell_type": "code",
   "execution_count": 8,
   "id": "751633c7",
   "metadata": {},
   "outputs": [],
   "source": [
    "#change the labels from integer to one-hot encoding\n",
    "train_labels = to_categorical(train_labels,43)\n",
    "test_labels = to_categorical(test_labels,43)"
   ]
  },
  {
   "cell_type": "code",
   "execution_count": 9,
   "id": "273362ad",
   "metadata": {},
   "outputs": [
    {
     "name": "stderr",
     "output_type": "stream",
     "text": [
      "2021-12-12 16:41:42.995463: I tensorflow/core/platform/cpu_feature_guard.cc:151] This TensorFlow binary is optimized with oneAPI Deep Neural Network Library (oneDNN) to use the following CPU instructions in performance-critical operations:  AVX2 FMA\n",
      "To enable them in other operations, rebuild TensorFlow with the appropriate compiler flags.\n"
     ]
    }
   ],
   "source": [
    "#Building the model\n",
    "model = Sequential()\n",
    "#hidden layer using activation relu\n",
    "model.add(Conv2D(filters=32, kernel_size=(5,5), activation='relu', input_shape=train_images.shape[1:]))\n",
    "model.add(MaxPooling2D(pool_size=(2, 2))) #Adding extra hidden layers\n",
    "model.add(Dropout(rate=0.25)) #Dropout frequency\n",
    "#Flattening the model\n",
    "model.add(Flatten())\n",
    "model.add(Dense(256, activation='relu')) #more layers\n",
    "model.add(Dropout(rate=0.5))#Dropout frequency\n",
    "model.add(Dense(43, activation='softmax')) #out layer"
   ]
  },
  {
   "cell_type": "code",
   "execution_count": 10,
   "id": "bb660ab3",
   "metadata": {},
   "outputs": [
    {
     "name": "stdout",
     "output_type": "stream",
     "text": [
      "Epoch 1/5\n",
      "123/123 [==============================] - 29s 220ms/step - loss: 7.2537 - accuracy: 0.3973 - val_loss: 0.8406 - val_accuracy: 0.7930\n",
      "Epoch 2/5\n",
      "123/123 [==============================] - 24s 199ms/step - loss: 1.1172 - accuracy: 0.7227 - val_loss: 0.5108 - val_accuracy: 0.8800\n",
      "Epoch 3/5\n",
      "123/123 [==============================] - 24s 197ms/step - loss: 0.7411 - accuracy: 0.8205 - val_loss: 0.3364 - val_accuracy: 0.9171\n",
      "Epoch 4/5\n",
      "123/123 [==============================] - 24s 198ms/step - loss: 0.6191 - accuracy: 0.8584 - val_loss: 0.2300 - val_accuracy: 0.9512\n",
      "Epoch 5/5\n",
      "123/123 [==============================] - 24s 198ms/step - loss: 0.5270 - accuracy: 0.8813 - val_loss: 0.2123 - val_accuracy: 0.9561\n"
     ]
    }
   ],
   "source": [
    "#Compilation \n",
    "model.compile(optimizer='rmsprop', loss='categorical_crossentropy', metrics=['accuracy'])\n",
    "#Fitting or passing the data to the model\n",
    "history = model.fit(train_images, train_labels, batch_size=256, epochs=5, verbose=1,validation_data=(test_images, test_labels))"
   ]
  },
  {
   "cell_type": "code",
   "execution_count": 11,
   "id": "281031a0",
   "metadata": {},
   "outputs": [
    {
     "name": "stdout",
     "output_type": "stream",
     "text": [
      "246/246 [==============================] - 2s 9ms/step - loss: 0.2123 - accuracy: 0.9561\n",
      "Evaluation result on Test Data : Loss = 0.2122698724269867, accuracy = 0.9561336636543274\n"
     ]
    }
   ],
   "source": [
    "#Evaluating the model\n",
    "[test_loss, test_acc] = model.evaluate(test_images, test_labels)\n",
    "print(\"Evaluation result on Test Data : Loss = {}, accuracy = {}\".format(test_loss, test_acc)) #Printing the accuracy"
   ]
  },
  {
   "cell_type": "code",
   "execution_count": 12,
   "id": "2135e12d",
   "metadata": {},
   "outputs": [],
   "source": [
    "#Adding more dense layers\n",
    "model = Sequential()\n",
    "#hidden layer using activation relu\n",
    "model.add(Conv2D(filters=32, kernel_size=(5,5), activation='relu', input_shape=train_images.shape[1:]))\n",
    "model.add(Conv2D(filters=32, kernel_size=(5,5), activation='relu')) #adding more layers\n",
    "model.add(MaxPooling2D(pool_size=(2, 2))) #adding more layers\n",
    "model.add(Dropout(rate=0.25))#Dropout frequency\n",
    "#Adding more Conv2D, Maxpooling, Dense layers\n",
    "model.add(Conv2D(filters=64, kernel_size=(3, 3), activation='relu')) #adding more layers\n",
    "model.add(Conv2D(filters=64, kernel_size=(3, 3), activation='relu')) #adding more layers\n",
    "model.add(MaxPooling2D(pool_size=(2, 2))) #adding more layers\n",
    "model.add(Dropout(rate=0.25))#Dropout frequency\n",
    "#Flattening the model\n",
    "model.add(Flatten())\n",
    "model.add(Dense(256, activation='relu')) #adding more layers\n",
    "model.add(Dropout(rate=0.5))#Dropout frequency\n",
    "model.add(Dense(43, activation='softmax')) #out layer"
   ]
  },
  {
   "cell_type": "code",
   "execution_count": 13,
   "id": "7996f950",
   "metadata": {},
   "outputs": [
    {
     "name": "stdout",
     "output_type": "stream",
     "text": [
      "Epoch 1/5\n",
      "123/123 [==============================] - 122s 980ms/step - loss: 2.9949 - accuracy: 0.3601 - val_loss: 0.6611 - val_accuracy: 0.8405\n",
      "Epoch 2/5\n",
      "123/123 [==============================] - 111s 902ms/step - loss: 0.6930 - accuracy: 0.8138 - val_loss: 0.1627 - val_accuracy: 0.9639\n",
      "Epoch 3/5\n",
      "123/123 [==============================] - 115s 931ms/step - loss: 0.3352 - accuracy: 0.9128 - val_loss: 0.1035 - val_accuracy: 0.9792\n",
      "Epoch 4/5\n",
      "123/123 [==============================] - 125s 1s/step - loss: 0.2248 - accuracy: 0.9442 - val_loss: 0.0807 - val_accuracy: 0.9810\n",
      "Epoch 5/5\n",
      "123/123 [==============================] - 121s 981ms/step - loss: 0.1715 - accuracy: 0.9579 - val_loss: 0.0745 - val_accuracy: 0.9821\n"
     ]
    }
   ],
   "source": [
    "#Compilation \n",
    "model.compile(optimizer='rmsprop', loss='categorical_crossentropy', metrics=['accuracy'])\n",
    "#Fitting or passing the data to the model\n",
    "history = model.fit(train_images, train_labels, batch_size=256, epochs=5, verbose=1,validation_data=(test_images, test_labels))"
   ]
  },
  {
   "cell_type": "code",
   "execution_count": 15,
   "id": "ee799e6f",
   "metadata": {},
   "outputs": [
    {
     "name": "stdout",
     "output_type": "stream",
     "text": [
      "dict_keys(['loss', 'accuracy', 'val_loss', 'val_accuracy'])\n"
     ]
    }
   ],
   "source": [
    "#Listing all the data in history (Call Backs)\n",
    "print(history.history.keys())"
   ]
  },
  {
   "cell_type": "code",
   "execution_count": 16,
   "id": "801ddc20",
   "metadata": {},
   "outputs": [
    {
     "data": {
      "image/png": "[encoded data removed]",
      "text/plain": [
       "<Figure size 432x288 with 1 Axes>"
      ]
     },
     "metadata": {
      "needs_background": "light"
     },
     "output_type": "display_data"
    }
   ],
   "source": [
    "# Plotting the Accuracy for both training data and validation data using the history object.\n",
    "plt.plot(history.history['accuracy'])\n",
    "plt.plot(history.history['val_accuracy'])\n",
    "plt.legend(['val_accuracy', 'accuracy'], loc='lower right')\n",
    "plt.title('Accuracy data comparison')\n",
    "plt.ylabel('Accuracy')\n",
    "plt.xlabel('epoch')\n",
    "plt.show()"
   ]
  },
  {
   "cell_type": "code",
   "execution_count": 17,
   "id": "cb99afbf",
   "metadata": {},
   "outputs": [
    {
     "data": {
      "image/png": "[encoded data removed]",
      "text/plain": [
       "<Figure size 432x288 with 1 Axes>"
      ]
     },
     "metadata": {
      "needs_background": "light"
     },
     "output_type": "display_data"
    }
   ],
   "source": [
    "# Plotting the loss for both training data and validation data using the history object.\n",
    "plt.plot(history.history['loss'])\n",
    "plt.plot(history.history['val_loss'])\n",
    "plt.title('Loss data comparison')\n",
    "plt.legend(['val_loss', 'loss'], loc='upper right')\n",
    "plt.xlabel('epoch')\n",
    "plt.ylabel('Loss')\n",
    "plt.show()"
   ]
  },
  {
   "cell_type": "code",
   "execution_count": 18,
   "id": "6cb0cfa0",
   "metadata": {},
   "outputs": [
    {
     "name": "stdout",
     "output_type": "stream",
     "text": [
      "Model: \"sequential_1\"\n",
      "_________________________________________________________________\n",
      " Layer (type)                Output Shape              Param #   \n",
      "=================================================================\n",
      " conv2d_1 (Conv2D)           (None, 28, 28, 32)        2432      \n",
      "                                                                 \n",
      " conv2d_2 (Conv2D)           (None, 24, 24, 32)        25632     \n",
      "                                                                 \n",
      " max_pooling2d_1 (MaxPooling  (None, 12, 12, 32)       0         \n",
      " 2D)                                                             \n",
      "                                                                 \n",
      " dropout_2 (Dropout)         (None, 12, 12, 32)        0         \n",
      "                                                                 \n",
      " conv2d_3 (Conv2D)           (None, 10, 10, 64)        18496     \n",
      "                                                                 \n",
      " conv2d_4 (Conv2D)           (None, 8, 8, 64)          36928     \n",
      "                                                                 \n",
      " max_pooling2d_2 (MaxPooling  (None, 4, 4, 64)         0         \n",
      " 2D)                                                             \n",
      "                                                                 \n",
      " dropout_3 (Dropout)         (None, 4, 4, 64)          0         \n",
      "                                                                 \n",
      " flatten_1 (Flatten)         (None, 1024)              0         \n",
      "                                                                 \n",
      " dense_2 (Dense)             (None, 256)               262400    \n",
      "                                                                 \n",
      " dropout_4 (Dropout)         (None, 256)               0         \n",
      "                                                                 \n",
      " dense_3 (Dense)             (None, 43)                11051     \n",
      "                                                                 \n",
      "=================================================================\n",
      "Total params: 356,939\n",
      "Trainable params: 356,939\n",
      "Non-trainable params: 0\n",
      "_________________________________________________________________\n",
      "None\n"
     ]
    }
   ],
   "source": [
    "model.save('/Users/maneeshaprasad/Desktop/traffic_sign_board_detector.h5')#saving the model\n",
    "print(model.summary()) #summary of the model"
   ]
  },
  {
   "cell_type": "code",
   "execution_count": 29,
   "id": "e36ec441",
   "metadata": {},
   "outputs": [],
   "source": [
    "#Importing the libraries for building GUI\n",
    "import numpy as np\n",
    "from tkinter import Tk\n",
    "from tkinter.filedialog import askopenfilename\n",
    "from tkinter import *\n",
    "from PIL import ImageTk, Image\n",
    "from keras.models import load_model"
   ]
  },
  {
   "cell_type": "code",
   "execution_count": 71,
   "id": "f82321b0",
   "metadata": {},
   "outputs": [],
   "source": [
    "#Reloading the model\n",
    "model = load_model('traffic_sign_board_detector.h5')"
   ]
  },
  {
   "cell_type": "code",
   "execution_count": 72,
   "id": "bb77f9c4",
   "metadata": {},
   "outputs": [],
   "source": [
    "#By using the CSV file done labelling for all traffic signs\n",
    "classes = { 1:'Speed limit (20km/h)',\n",
    "            2:'Speed limit (30km/h)', \n",
    "            3:'Speed limit (50km/h)', \n",
    "            4:'Speed limit (60km/h)', \n",
    "            5:'Speed limit (70km/h)', \n",
    "            6:'Speed limit (80km/h)', \n",
    "            7:'End of speed limit (80km/h)', \n",
    "            8:'Speed limit (100km/h)', \n",
    "            9:'Speed limit (120km/h)', \n",
    "            10:'No passing', \n",
    "            11:'No passing vehicle > 3.5 tons', \n",
    "            12:'Right-of-way at intersection', \n",
    "            13:'Priority road', \n",
    "            14:'Yield', \n",
    "            15:'Stop', \n",
    "            16:'No vehicles', \n",
    "            17:'Veh > 3.5 tons prohibited', \n",
    "            18:'No entry', \n",
    "            19:'General caution', \n",
    "            20:'Dangerous curve left', \n",
    "            21:'Dangerous curve right', \n",
    "            22:'Double curve', \n",
    "            23:'Bumpy road', \n",
    "            24:'Slippery road', \n",
    "            25:'Road narrows on the right', \n",
    "            26:'Road work', \n",
    "            27:'Traffic signals', \n",
    "            28:'Pedestrians', \n",
    "            29:'Children crossing', \n",
    "            30:'Bicycles crossing', \n",
    "            31:'Beware of ice/snow',\n",
    "            32:'Wild animals crossing', \n",
    "            33:'End speed + passing limits', \n",
    "            34:'Turn right ahead', \n",
    "            35:'Turn left ahead', \n",
    "            36:'Ahead only', \n",
    "            37:'Go straight or right', \n",
    "            38:'Go straight or left', \n",
    "            39:'Keep right', \n",
    "            40:'Keep left', \n",
    "            41:'Roundabout mandatory', \n",
    "            42:'End of no passing', \n",
    "            43:'End no passing veh > 3.5 tons' }"
   ]
  },
  {
   "cell_type": "code",
   "execution_count": 73,
   "id": "9662dcfe",
   "metadata": {},
   "outputs": [],
   "source": [
    "#https://realpython.com/python-gui-tkinter/\n",
    "#create a new window and assign it to the variable window\n",
    "window=Tk()\n",
    "\n",
    "window.geometry('800x600')\n",
    "#Create a title widget with the text\n",
    "window.title('Traffic sign board detector')\n",
    "window.configure(background='#b7a6ad')\n",
    "label=Label(window,background='#b7a6ad', font=('arial',15,'bold'))\n",
    "sign_image = Label(window)\n"
   ]
  },
  {
   "cell_type": "code",
   "execution_count": 74,
   "id": "36c5ef5b",
   "metadata": {},
   "outputs": [],
   "source": [
    "#prediction_function : By using this function we can pass the uploaded image to model and model will predict the image.\n",
    "\n",
    "def prediction(file_path):\n",
    "    global label_packed\n",
    "    sign_board = Image.open(file_path) #Opening the random image from test data\n",
    "    sign_board = sign_board.resize((32,32)) #Reshaping the size of image\n",
    "    sign_board = np.expand_dims(sign_board, axis=0) #Expanding the dimensions\n",
    "    sign_board = np.array(sign_board)\n",
    "    pred = model.predict(sign_board) #Predecting the traffic sign using the model built above\n",
    "    sign = classes[np.argmax(pred)+1]\n",
    "    print(sign) #Printing the traffic sign what model has predected\n",
    "    label.configure(foreground='yellow', text=sign) #adding some color configuration "
   ]
  },
  {
   "cell_type": "code",
   "execution_count": 75,
   "id": "45142127",
   "metadata": {},
   "outputs": [],
   "source": [
    "#display_prediction : By using this function we will display the prediction button after uploding the image\n",
    "\n",
    "def display_prediction(file_path):\n",
    "    classification=Button(window,text=\"Predict\", command=lambda: prediction(file_path),padx=10,pady=5) #predicting the imag\n",
    "    classification.configure(background='#466df0',foreground='black',font=('arial',10,'bold'))\n",
    "    classification.place(relx=0.79,rely=0.46)"
   ]
  },
  {
   "cell_type": "code",
   "execution_count": 76,
   "id": "abd0aa5e",
   "metadata": {},
   "outputs": [],
   "source": [
    "#Upload_Button : By using this function will request for uploading an image\n",
    "\n",
    "def upload_sign_board():\n",
    "    try:\n",
    "       \n",
    "        \n",
    "        path= askopenfilename(filetypes=[(\"Jpg File\",'.jpg'),('PNG Files','*.png')])\n",
    "        im = Image.open(path)\n",
    "        #im.thumbnail(((window.winfo_width()/2.25),(window.winfo_height()/2.25)))\n",
    "        resize_img=im.resize((180,180))        \n",
    "        tkimage = ImageTk.PhotoImage(resize_img)\n",
    "        myvar=Label(window,image = tkimage)\n",
    "        myvar.image=tkimage\n",
    "        myvar.pack()\n",
    "        label.configure(text='')\n",
    "        display_prediction(path)     #Displaying the prediction\n",
    "    except:\n",
    "        pass\n",
    "    \n",
    "    \n",
    "    \n",
    "    \n",
    "    \n",
    "    \n",
    "\n",
    "\n"
   ]
  },
  {
   "cell_type": "code",
   "execution_count": 77,
   "id": "934b96c5",
   "metadata": {},
   "outputs": [],
   "source": [
    "#Uplolading the image and classifying the type of image\n",
    "upload=Button(window,text=\"Upload an image\",command=upload_sign_board,padx=10,pady=5\n",
    "             )  #Button configuration\n",
    "upload.configure(background='#466df0', foreground='Black',font=('calibri',10,'bold')) \n",
    "upload.pack(side=BOTTOM,pady=50)\n",
    "sign_image.pack(side=BOTTOM,expand=True) #Button location\n",
    "label.pack(side=BOTTOM,expand=True)\n",
    "#styling the text\n",
    "heading = Label(window, text=\"Predict the traffic sign\",pady=20, font=('calibri',20,'bold'))\n",
    "heading.configure(background='#b7a6ad', foreground='white')\n",
    "#adding all widgets to the window using pack()\n",
    "heading.pack()\n"
   ]
  },
  {
   "cell_type": "code",
   "execution_count": 78,
   "id": "8b507e35",
   "metadata": {},
   "outputs": [
    {
     "name": "stdout",
     "output_type": "stream",
     "text": [
      "Dangerous curve left\n"
     ]
    }
   ],
   "source": [
    "#this method listens for events, such as button clicks or keypresses\n",
    "window.mainloop()"
   ]
  }
 ],
 "metadata": {
  "celltoolbar": "Attachments",
  "kernelspec": {
   "display_name": "Python 3 (ipykernel)",
   "language": "python",
   "name": "python3"
  },
  "language_info": {
   "codemirror_mode": {
    "name": "ipython",
    "version": 3
   },
   "file_extension": ".py",
   "mimetype": "text/x-python",
   "name": "python",
   "nbconvert_exporter": "python",
   "pygments_lexer": "ipython3",
   "version": "3.9.7"
  }
 },
 "nbformat": 4,
 "nbformat_minor": 5
}
